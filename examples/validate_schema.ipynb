{
 "cells": [
  {
   "cell_type": "code",
   "execution_count": 1,
   "metadata": {},
   "outputs": [],
   "source": [
    "import json\n",
    "import requests\n",
    "\n",
    "\n",
    "import sys\n",
    "sys.path.append(\"../\")\n",
    "\n",
    "\n",
    "# additional package(s):\n",
    "import jsonschema\n"
   ]
  },
  {
   "cell_type": "code",
   "execution_count": 2,
   "metadata": {},
   "outputs": [
    {
     "name": "stdout",
     "output_type": "stream",
     "text": [
      "Schema URL to fetch: https://raw.githubusercontent.com/jp7745/qb-file-schemas/main/schemas/problem_instance.schema.0.0.1.json\n"
     ]
    }
   ],
   "source": [
    "# example file:\n",
    "file_path = \"../problem_instances/problem_instance.e36d77e9-e467-49dc-8c87-973fd6776f18.json\"\n",
    "\n",
    "\n",
    "# load data from file as a Python dictionary object:\n",
    "with open(file_path, \"r\") as json_file:\n",
    "    data = json.load(json_file)\n",
    "\n",
    "\n",
    "# pull out the $schema field as specified in the JSON file:\n",
    "schema_url = data[\"$schema\"]\n",
    "print(\"Schema URL to fetch:\", schema_url)\n",
    "\n",
    "\n",
    "# fetch the schema from the URL (http request):\n",
    "schema = requests.get(schema_url).json()\n",
    "\n",
    "\n",
    "# validate ... no output implies success!\n",
    "jsonschema.validate(instance=data, schema=schema)"
   ]
  }
 ],
 "metadata": {
  "kernelspec": {
   "display_name": "openfermion",
   "language": "python",
   "name": "python3"
  },
  "language_info": {
   "codemirror_mode": {
    "name": "ipython",
    "version": 3
   },
   "file_extension": ".py",
   "mimetype": "text/x-python",
   "name": "python",
   "nbconvert_exporter": "python",
   "pygments_lexer": "ipython3",
   "version": "3.11.5"
  }
 },
 "nbformat": 4,
 "nbformat_minor": 2
}
