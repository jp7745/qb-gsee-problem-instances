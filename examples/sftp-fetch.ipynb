{
 "cells": [
  {
   "cell_type": "code",
   "execution_count": 1,
   "metadata": {},
   "outputs": [
    {
     "name": "stderr",
     "output_type": "stream",
     "text": [
      "/home/labuser/miniconda3/envs/benchq/lib/python3.11/site-packages/paramiko/transport.py:219: CryptographyDeprecationWarning: Blowfish has been deprecated and will be removed in a future release\n",
      "  \"class\": algorithms.Blowfish,\n"
     ]
    }
   ],
   "source": [
    "import paramiko\n",
    "import json\n",
    "from urllib.parse import urlparse\n"
   ]
  },
  {
   "cell_type": "code",
   "execution_count": 2,
   "metadata": {},
   "outputs": [
    {
     "name": "stdout",
     "output_type": "stream",
     "text": [
      "sftp://sftp.l3harris.com/gsee/fe_red.6acme.47d5abd7-c022-4140-4e2c-7918f7d044d8.fcidump.gz\n",
      "\n",
      "\n",
      "we will fetch the file: fe_red.6acme.47d5abd7-c022-4140-4e2c-7918f7d044d8.fcidump.gz\n"
     ]
    }
   ],
   "source": [
    "## read in a problem_instance.<uuid>.json file\n",
    "\n",
    "\n",
    "# the file listed is just one example:\n",
    "problem_instance_path = \"problem_instance.fe_red.a8895776-3583-4884-fbc7-d6f9df21a7ac.json\"\n",
    "\n",
    "with open(problem_instance_path, \"r\") as f:\n",
    "    problem_instance = json.load(f)\n",
    "\n",
    "\n",
    "# locate the first (of possibly multiple) Hamiltonian files related to the problem instance\n",
    "url = problem_instance[\"instance_data\"][0][\"instance_data_object_url\"]\n",
    "\n",
    "print(url)\n",
    "parsed_url = urlparse(url)\n",
    "Hamiltonian_file_name = parsed_url.path.split(\"/\")[-1]\n",
    "print(f\"\\n\\nwe will fetch the file: {Hamiltonian_file_name}\")"
   ]
  },
  {
   "cell_type": "code",
   "execution_count": 3,
   "metadata": {},
   "outputs": [],
   "source": [
    "## define the function to perform the SFTP fetch:\n",
    "\n",
    "def fetch_file_from_sftp(\n",
    "        url=None,\n",
    "        local_path=None,\n",
    "        ppk_path=None,\n",
    "        username=None,\n",
    "        port=None\n",
    "): \n",
    "\n",
    "\n",
    "    parsed_url = urlparse(url)\n",
    "    hostname = parsed_url.hostname\n",
    "    remote_path = parsed_url.path.lstrip(\"/\")\n",
    "\n",
    "    try:\n",
    "        # Create an SSH client\n",
    "        with paramiko.SSHClient() as client:\n",
    "            client.set_missing_host_key_policy(paramiko.AutoAddPolicy())\n",
    "            \n",
    "            # Connect using the private key file (.ppk)\n",
    "            client.connect(\n",
    "                hostname=hostname, \n",
    "                port=port, \n",
    "                username=username, \n",
    "                key_filename=ppk_path\n",
    "            )\n",
    "\n",
    "            # Open an SFTP session\n",
    "            with client.open_sftp() as sftp:\n",
    "                sftp.get(remote_path, local_path)\n",
    "\n",
    "        print(f\"File fetched successfully from {hostname}\")\n",
    "    except Exception as e:\n",
    "        print(f\"Error: {e}\")\n"
   ]
  },
  {
   "cell_type": "code",
   "execution_count": 4,
   "metadata": {},
   "outputs": [
    {
     "name": "stdout",
     "output_type": "stream",
     "text": [
      "File fetched successfully from sftp.l3harris.com\n"
     ]
    }
   ],
   "source": [
    "## call the function to perform the SFTP fetch:\n",
    "\n",
    "# standard SCP/SFTP port.\n",
    "port = 22 \n",
    "\n",
    "# path to where your key file is!\n",
    "ppk_path = \"/home/labuser/.ssh/darpa-qb-key.ppk\"\n",
    "\n",
    "# your username should match the key file!\n",
    "username = \"darpa-qb\"\n",
    "\n",
    "# call the function:\n",
    "fetch_file_from_sftp(\n",
    "    url=url, # obtained URL from problem_instance.<uuid>.json above\n",
    "    username=username,\n",
    "    ppk_path=ppk_path, \n",
    "    local_path=Hamiltonian_file_name, # name that the file will be saved as\n",
    "    port=22\n",
    ")\n",
    "\n",
    "\n"
   ]
  }
 ],
 "metadata": {
  "kernelspec": {
   "display_name": "Python 3",
   "language": "python",
   "name": "python3"
  },
  "language_info": {
   "codemirror_mode": {
    "name": "ipython",
    "version": 3
   },
   "file_extension": ".py",
   "mimetype": "text/x-python",
   "name": "python",
   "nbconvert_exporter": "python",
   "pygments_lexer": "ipython3",
   "version": "3.11.8"
  }
 },
 "nbformat": 4,
 "nbformat_minor": 2
}
