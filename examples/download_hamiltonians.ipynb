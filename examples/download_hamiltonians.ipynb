{
 "cells": [
  {
   "cell_type": "code",
   "execution_count": 9,
   "metadata": {},
   "outputs": [],
   "source": [
    "import numpy as np\n",
    "import orquestra.sdk as sdk\n",
    "import pandas as pd\n",
    "import s3fs, os"
   ]
  },
  {
   "cell_type": "code",
   "execution_count": 10,
   "metadata": {},
   "outputs": [],
   "source": [
    "config_name = 'darpa-ta1'\n",
    "workspace_id = 'ta1-chemistry-1a2981'\n",
    "\n",
    "key = sdk.secrets.get(\n",
    "    \"darpa-shared-data-access-key-id\",\n",
    "    config_name=config_name,\n",
    "    workspace_id=workspace_id,\n",
    ")\n",
    "secret = sdk.secrets.get(\n",
    "    \"darpa-shared-data-secret-access-key\",\n",
    "    config_name=config_name,\n",
    "    workspace_id=workspace_id,\n",
    ")\n",
    "\n",
    "s3 = s3fs.S3FileSystem(key=key, secret=secret)"
   ]
  },
  {
   "cell_type": "code",
   "execution_count": 11,
   "metadata": {},
   "outputs": [
    {
     "data": {
      "text/html": [
       "<div>\n",
       "<style scoped>\n",
       "    .dataframe tbody tr th:only-of-type {\n",
       "        vertical-align: middle;\n",
       "    }\n",
       "\n",
       "    .dataframe tbody tr th {\n",
       "        vertical-align: top;\n",
       "    }\n",
       "\n",
       "    .dataframe thead th {\n",
       "        text-align: right;\n",
       "    }\n",
       "</style>\n",
       "<table border=\"1\" class=\"dataframe\">\n",
       "  <thead>\n",
       "    <tr style=\"text-align: right;\">\n",
       "      <th></th>\n",
       "      <th>geometry</th>\n",
       "      <th>basis_set</th>\n",
       "      <th>charge</th>\n",
       "      <th>multiplicity</th>\n",
       "      <th>avas_atomic_orbitals</th>\n",
       "      <th>avas_minao</th>\n",
       "      <th>method_type</th>\n",
       "      <th>molecule_name</th>\n",
       "      <th>ref</th>\n",
       "      <th>cat_tag</th>\n",
       "      <th>...</th>\n",
       "      <th>mean_field_obejct_from_fcidump</th>\n",
       "      <th>converged</th>\n",
       "      <th>stable_int</th>\n",
       "      <th>mult_mf</th>\n",
       "      <th>s2_mf</th>\n",
       "      <th>e_tot</th>\n",
       "      <th>avas_ne</th>\n",
       "      <th>avas_no</th>\n",
       "      <th>utility_scale</th>\n",
       "      <th>software_used</th>\n",
       "    </tr>\n",
       "  </thead>\n",
       "  <tbody>\n",
       "    <tr>\n",
       "      <th>0</th>\n",
       "      <td>['C 0.00000 0.00000 -0.00004', 'O 0.00000 0.00...</td>\n",
       "      <td>6-311++G**</td>\n",
       "      <td>0</td>\n",
       "      <td>1.0</td>\n",
       "      <td>['C 2s', 'C 2p']</td>\n",
       "      <td>STO-3G</td>\n",
       "      <td>Catalysis</td>\n",
       "      <td>co2</td>\n",
       "      <td>J. Am. Chem. Soc. 2017, 139 (3), 1245–1260</td>\n",
       "      <td>ru_macho</td>\n",
       "      <td>...</td>\n",
       "      <td>fcidump.2_co2_6-311++G**</td>\n",
       "      <td>NaN</td>\n",
       "      <td>NaN</td>\n",
       "      <td>NaN</td>\n",
       "      <td>NaN</td>\n",
       "      <td>NaN</td>\n",
       "      <td>8</td>\n",
       "      <td>6</td>\n",
       "      <td>False</td>\n",
       "      <td>PySCF 2.2.1</td>\n",
       "    </tr>\n",
       "    <tr>\n",
       "      <th>1</th>\n",
       "      <td>['C@1 -0.29337 -0.35620 0.23059', 'O@1 -0.6755...</td>\n",
       "      <td>6-311++G**</td>\n",
       "      <td>0</td>\n",
       "      <td>1.0</td>\n",
       "      <td>['C@1 2s', 'C@1 2p', 'O@1 2s', 'O@1 2p']</td>\n",
       "      <td>STO-3G</td>\n",
       "      <td>Catalysis</td>\n",
       "      <td>melact</td>\n",
       "      <td>J. Am. Chem. Soc. 2017, 139 (3), 1245–1260</td>\n",
       "      <td>ru_macho</td>\n",
       "      <td>...</td>\n",
       "      <td>fcidump.7_melact_6-311++G**</td>\n",
       "      <td>NaN</td>\n",
       "      <td>NaN</td>\n",
       "      <td>NaN</td>\n",
       "      <td>NaN</td>\n",
       "      <td>NaN</td>\n",
       "      <td>12</td>\n",
       "      <td>9</td>\n",
       "      <td>False</td>\n",
       "      <td>PySCF 2.2.1</td>\n",
       "    </tr>\n",
       "  </tbody>\n",
       "</table>\n",
       "<p>2 rows × 26 columns</p>\n",
       "</div>"
      ],
      "text/plain": [
       "                                            geometry   basis_set  charge  \\\n",
       "0  ['C 0.00000 0.00000 -0.00004', 'O 0.00000 0.00...  6-311++G**       0   \n",
       "1  ['C@1 -0.29337 -0.35620 0.23059', 'O@1 -0.6755...  6-311++G**       0   \n",
       "\n",
       "   multiplicity                      avas_atomic_orbitals avas_minao  \\\n",
       "0           1.0                          ['C 2s', 'C 2p']     STO-3G   \n",
       "1           1.0  ['C@1 2s', 'C@1 2p', 'O@1 2s', 'O@1 2p']     STO-3G   \n",
       "\n",
       "  method_type molecule_name                                         ref  \\\n",
       "0   Catalysis           co2  J. Am. Chem. Soc. 2017, 139 (3), 1245–1260   \n",
       "1   Catalysis        melact  J. Am. Chem. Soc. 2017, 139 (3), 1245–1260   \n",
       "\n",
       "    cat_tag  ... mean_field_obejct_from_fcidump  converged  stable_int  \\\n",
       "0  ru_macho  ...       fcidump.2_co2_6-311++G**        NaN         NaN   \n",
       "1  ru_macho  ...    fcidump.7_melact_6-311++G**        NaN         NaN   \n",
       "\n",
       "  mult_mf s2_mf  e_tot avas_ne  avas_no  utility_scale  software_used  \n",
       "0     NaN   NaN    NaN       8        6          False    PySCF 2.2.1  \n",
       "1     NaN   NaN    NaN      12        9          False    PySCF 2.2.1  \n",
       "\n",
       "[2 rows x 26 columns]"
      ]
     },
     "execution_count": 11,
     "metadata": {},
     "output_type": "execute_result"
    }
   ],
   "source": [
    "cat_meta = pd.read_csv('catalysis_metadata_new_fcidump.csv')\n",
    "cat_meta.head(2)"
   ]
  },
  {
   "cell_type": "code",
   "execution_count": 12,
   "metadata": {},
   "outputs": [],
   "source": [
    "S3_BUCKET = \"darpa-benchmarking-backup-2/zap-storage-zapata-darpa-benchmarking-426lh/scf_outputs/\""
   ]
  },
  {
   "cell_type": "code",
   "execution_count": 14,
   "metadata": {},
   "outputs": [],
   "source": [
    "to_be_renamed = []\n",
    "for _, row in cat_meta.iterrows():\n",
    "    #print(row['molecule_name'])\n",
    "    ru_macho_non_tm = (row['cat_tag'] == 'ru_macho' and (row['molecule_name'] == 'co2' or row['molecule_name'] == 'melact'))\n",
    "    if ru_macho_non_tm or row['cat_tag'] == 'fe_red':\n",
    "        fcidump_name = f'fcidump.{row[\"id\"]}_{row[\"molecule_name\"]}_0.2_old'\n",
    "        s3.download(f'{S3_BUCKET}fcidump.{row[\"id\"]}_{row[\"molecule_name\"]}_*', \".\")\n",
    "        os.rename(row['mean_field_obejct_from_fcidump'], fcidump_name)\n",
    "    else:\n",
    "        remote_name = S3_BUCKET + row['mean_field_obejct_from_fcidump']\n",
    "        s3.download(remote_name, row['mean_field_obejct_from_fcidump'])"
   ]
  },
  {
   "cell_type": "code",
   "execution_count": 15,
   "metadata": {},
   "outputs": [],
   "source": [
    "#cat_meta.query('cat_tag == \"ru_macho\"')"
   ]
  },
  {
   "cell_type": "code",
   "execution_count": 16,
   "metadata": {},
   "outputs": [],
   "source": [
    "def rename_old_instances(row):\n",
    "    ru_macho_non_tm = (row['cat_tag'] == 'ru_macho' and (row['molecule_name'] == 'co2' or row['molecule_name'] == 'melact'))\n",
    "    if ru_macho_non_tm or row['cat_tag'] == 'fe_red':\n",
    "        return f'fcidump.{row[\"id\"]}_{row[\"molecule_name\"]}_0.2_old'\n",
    "    else: \n",
    "        return row['mean_field_obejct_from_fcidump']"
   ]
  },
  {
   "cell_type": "code",
   "execution_count": 17,
   "metadata": {},
   "outputs": [],
   "source": [
    "cat_meta.loc[:, 'mean_field_obejct_from_fcidump'] = cat_meta.apply(rename_old_instances, axis=1)"
   ]
  },
  {
   "cell_type": "code",
   "execution_count": 18,
   "metadata": {},
   "outputs": [
    {
     "data": {
      "text/html": [
       "<div>\n",
       "<style scoped>\n",
       "    .dataframe tbody tr th:only-of-type {\n",
       "        vertical-align: middle;\n",
       "    }\n",
       "\n",
       "    .dataframe tbody tr th {\n",
       "        vertical-align: top;\n",
       "    }\n",
       "\n",
       "    .dataframe thead th {\n",
       "        text-align: right;\n",
       "    }\n",
       "</style>\n",
       "<table border=\"1\" class=\"dataframe\">\n",
       "  <thead>\n",
       "    <tr style=\"text-align: right;\">\n",
       "      <th></th>\n",
       "      <th>molecule_name</th>\n",
       "      <th>mean_field_obejct_from_fcidump</th>\n",
       "    </tr>\n",
       "  </thead>\n",
       "  <tbody>\n",
       "    <tr>\n",
       "      <th>0</th>\n",
       "      <td>co2</td>\n",
       "      <td>fcidump.2_co2_0.2_old</td>\n",
       "    </tr>\n",
       "    <tr>\n",
       "      <th>1</th>\n",
       "      <td>melact</td>\n",
       "      <td>fcidump.7_melact_0.2_old</td>\n",
       "    </tr>\n",
       "    <tr>\n",
       "      <th>2</th>\n",
       "      <td>melact</td>\n",
       "      <td>fcidump.8_melact_0.2_old</td>\n",
       "    </tr>\n",
       "    <tr>\n",
       "      <th>12</th>\n",
       "      <td>ru_macho</td>\n",
       "      <td>fcidump.0_ru_macho_noncan_0.2_new</td>\n",
       "    </tr>\n",
       "    <tr>\n",
       "      <th>23</th>\n",
       "      <td>ru_macho</td>\n",
       "      <td>fcidump.1_ru_macho_noncan_0.2_new</td>\n",
       "    </tr>\n",
       "    <tr>\n",
       "      <th>44</th>\n",
       "      <td>ts_ru_macho_co2</td>\n",
       "      <td>fcidump.3_ts_ru_macho_co2_noncan_0.2_new</td>\n",
       "    </tr>\n",
       "    <tr>\n",
       "      <th>55</th>\n",
       "      <td>ts_ru_macho_co2</td>\n",
       "      <td>fcidump.4_ts_ru_macho_co2_noncan_0.2_new</td>\n",
       "    </tr>\n",
       "    <tr>\n",
       "      <th>57</th>\n",
       "      <td>ts_ru_macho_melact</td>\n",
       "      <td>fcidump.5_ts_ru_macho_melact_noncan_0.2_new</td>\n",
       "    </tr>\n",
       "    <tr>\n",
       "      <th>65</th>\n",
       "      <td>ts_ru_macho_melact</td>\n",
       "      <td>fcidump.6_ts_ru_macho_melact_noncan_0.2_new</td>\n",
       "    </tr>\n",
       "  </tbody>\n",
       "</table>\n",
       "</div>"
      ],
      "text/plain": [
       "         molecule_name               mean_field_obejct_from_fcidump\n",
       "0                  co2                        fcidump.2_co2_0.2_old\n",
       "1               melact                     fcidump.7_melact_0.2_old\n",
       "2               melact                     fcidump.8_melact_0.2_old\n",
       "12            ru_macho            fcidump.0_ru_macho_noncan_0.2_new\n",
       "23            ru_macho            fcidump.1_ru_macho_noncan_0.2_new\n",
       "44     ts_ru_macho_co2     fcidump.3_ts_ru_macho_co2_noncan_0.2_new\n",
       "55     ts_ru_macho_co2     fcidump.4_ts_ru_macho_co2_noncan_0.2_new\n",
       "57  ts_ru_macho_melact  fcidump.5_ts_ru_macho_melact_noncan_0.2_new\n",
       "65  ts_ru_macho_melact  fcidump.6_ts_ru_macho_melact_noncan_0.2_new"
      ]
     },
     "execution_count": 18,
     "metadata": {},
     "output_type": "execute_result"
    }
   ],
   "source": [
    "cat_meta.query('cat_tag == \"ru_macho\"')[['molecule_name', 'mean_field_obejct_from_fcidump']]"
   ]
  },
  {
   "cell_type": "code",
   "execution_count": 19,
   "metadata": {},
   "outputs": [],
   "source": [
    "cat_meta.to_csv('catalysis_metadata_new_fcidump.csv', index=False)"
   ]
  },
  {
   "cell_type": "code",
   "execution_count": null,
   "metadata": {},
   "outputs": [],
   "source": []
  }
 ],
 "metadata": {
  "kernelspec": {
   "display_name": "sdk",
   "language": "python",
   "name": "python3"
  },
  "language_info": {
   "codemirror_mode": {
    "name": "ipython",
    "version": 3
   },
   "file_extension": ".py",
   "mimetype": "text/x-python",
   "name": "python",
   "nbconvert_exporter": "python",
   "pygments_lexer": "ipython3",
   "version": "3.11.8"
  }
 },
 "nbformat": 4,
 "nbformat_minor": 2
}
