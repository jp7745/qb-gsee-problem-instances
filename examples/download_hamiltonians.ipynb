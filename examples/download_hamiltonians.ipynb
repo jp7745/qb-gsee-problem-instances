{
 "cells": [
  {
   "cell_type": "code",
   "execution_count": 1,
   "metadata": {},
   "outputs": [],
   "source": [
    "import numpy as np\n",
    "import orquestra.sdk as sdk\n",
    "import pandas as pd\n",
    "import s3fs, os"
   ]
  },
  {
   "cell_type": "code",
   "execution_count": 2,
   "metadata": {},
   "outputs": [],
   "source": [
    "config_name = 'darpa-ta1'\n",
    "workspace_id = 'ta1-chemistry-1a2981'\n",
    "\n",
    "key = sdk.secrets.get(\n",
    "    \"darpa-shared-data-access-key-id\",\n",
    "    config_name=config_name,\n",
    "    workspace_id=workspace_id,\n",
    ")\n",
    "secret = sdk.secrets.get(\n",
    "    \"darpa-shared-data-secret-access-key\",\n",
    "    config_name=config_name,\n",
    "    workspace_id=workspace_id,\n",
    ")\n",
    "\n",
    "s3 = s3fs.S3FileSystem(key=key, secret=secret)"
   ]
  },
  {
   "cell_type": "code",
   "execution_count": 3,
   "metadata": {},
   "outputs": [],
   "source": [
    "cat_meta = pd.read_csv('catalysis_metadata_new_fcidump.csv')\n",
    "#cat_meta.head(2)"
   ]
  },
  {
   "cell_type": "code",
   "execution_count": 4,
   "metadata": {},
   "outputs": [],
   "source": [
    "S3_BUCKET = \"darpa-benchmarking-backup-2/zap-storage-zapata-darpa-benchmarking-426lh/scf_outputs/\""
   ]
  },
  {
   "cell_type": "code",
   "execution_count": 14,
   "metadata": {},
   "outputs": [],
   "source": [
    "for _, row in cat_meta.iterrows():\n",
    "    #print(row['molecule_name'])\n",
    "    ru_macho_non_tm = (row['cat_tag'] == 'ru_macho' and (row['molecule_name'] == 'co2' or row['molecule_name'] == 'melact'))\n",
    "    if ru_macho_non_tm or row['cat_tag'] == 'fe_red':\n",
    "        fcidump_name = f'fcidump.{row[\"id\"]}_{row[\"molecule_name\"]}_0.2_old'\n",
    "        s3.download(f'{S3_BUCKET}fcidump.{row[\"id\"]}_{row[\"molecule_name\"]}_*', \".\")\n",
    "        os.rename(row['mean_field_obejct_from_fcidump'], fcidump_name)\n",
    "    else:\n",
    "        remote_name = S3_BUCKET + row['mean_field_obejct_from_fcidump']\n",
    "        s3.download(remote_name, row['mean_field_obejct_from_fcidump'])"
   ]
  },
  {
   "cell_type": "code",
   "execution_count": 5,
   "metadata": {},
   "outputs": [],
   "source": [
    "#cat_meta.query('cat_tag == \"ru_macho\"')"
   ]
  },
  {
   "cell_type": "code",
   "execution_count": 6,
   "metadata": {},
   "outputs": [],
   "source": [
    "def rename_old_instances(row):\n",
    "    ru_macho_non_tm = (row['cat_tag'] == 'ru_macho' and (row['molecule_name'] == 'co2' or row['molecule_name'] == 'melact'))\n",
    "    if ru_macho_non_tm or row['cat_tag'] == 'fe_red':\n",
    "        return f'fcidump.{row[\"id\"]}_{row[\"molecule_name\"]}_0.2_old'\n",
    "    else: \n",
    "        return row['mean_field_obejct_from_fcidump']"
   ]
  },
  {
   "cell_type": "code",
   "execution_count": 17,
   "metadata": {},
   "outputs": [],
   "source": [
    "cat_meta.loc[:, 'mean_field_obejct_from_fcidump'] = cat_meta.apply(rename_old_instances, axis=1)"
   ]
  },
  {
   "cell_type": "code",
   "execution_count": 18,
   "metadata": {},
   "outputs": [
    {
     "data": {
      "text/html": [
       "<div>\n",
       "<style scoped>\n",
       "    .dataframe tbody tr th:only-of-type {\n",
       "        vertical-align: middle;\n",
       "    }\n",
       "\n",
       "    .dataframe tbody tr th {\n",
       "        vertical-align: top;\n",
       "    }\n",
       "\n",
       "    .dataframe thead th {\n",
       "        text-align: right;\n",
       "    }\n",
       "</style>\n",
       "<table border=\"1\" class=\"dataframe\">\n",
       "  <thead>\n",
       "    <tr style=\"text-align: right;\">\n",
       "      <th></th>\n",
       "      <th>molecule_name</th>\n",
       "      <th>mean_field_obejct_from_fcidump</th>\n",
       "    </tr>\n",
       "  </thead>\n",
       "  <tbody>\n",
       "    <tr>\n",
       "      <th>0</th>\n",
       "      <td>co2</td>\n",
       "      <td>fcidump.2_co2_0.2_old</td>\n",
       "    </tr>\n",
       "    <tr>\n",
       "      <th>1</th>\n",
       "      <td>melact</td>\n",
       "      <td>fcidump.7_melact_0.2_old</td>\n",
       "    </tr>\n",
       "    <tr>\n",
       "      <th>2</th>\n",
       "      <td>melact</td>\n",
       "      <td>fcidump.8_melact_0.2_old</td>\n",
       "    </tr>\n",
       "    <tr>\n",
       "      <th>12</th>\n",
       "      <td>ru_macho</td>\n",
       "      <td>fcidump.0_ru_macho_noncan_0.2_new</td>\n",
       "    </tr>\n",
       "    <tr>\n",
       "      <th>23</th>\n",
       "      <td>ru_macho</td>\n",
       "      <td>fcidump.1_ru_macho_noncan_0.2_new</td>\n",
       "    </tr>\n",
       "    <tr>\n",
       "      <th>44</th>\n",
       "      <td>ts_ru_macho_co2</td>\n",
       "      <td>fcidump.3_ts_ru_macho_co2_noncan_0.2_new</td>\n",
       "    </tr>\n",
       "    <tr>\n",
       "      <th>55</th>\n",
       "      <td>ts_ru_macho_co2</td>\n",
       "      <td>fcidump.4_ts_ru_macho_co2_noncan_0.2_new</td>\n",
       "    </tr>\n",
       "    <tr>\n",
       "      <th>57</th>\n",
       "      <td>ts_ru_macho_melact</td>\n",
       "      <td>fcidump.5_ts_ru_macho_melact_noncan_0.2_new</td>\n",
       "    </tr>\n",
       "    <tr>\n",
       "      <th>65</th>\n",
       "      <td>ts_ru_macho_melact</td>\n",
       "      <td>fcidump.6_ts_ru_macho_melact_noncan_0.2_new</td>\n",
       "    </tr>\n",
       "  </tbody>\n",
       "</table>\n",
       "</div>"
      ],
      "text/plain": [
       "         molecule_name               mean_field_obejct_from_fcidump\n",
       "0                  co2                        fcidump.2_co2_0.2_old\n",
       "1               melact                     fcidump.7_melact_0.2_old\n",
       "2               melact                     fcidump.8_melact_0.2_old\n",
       "12            ru_macho            fcidump.0_ru_macho_noncan_0.2_new\n",
       "23            ru_macho            fcidump.1_ru_macho_noncan_0.2_new\n",
       "44     ts_ru_macho_co2     fcidump.3_ts_ru_macho_co2_noncan_0.2_new\n",
       "55     ts_ru_macho_co2     fcidump.4_ts_ru_macho_co2_noncan_0.2_new\n",
       "57  ts_ru_macho_melact  fcidump.5_ts_ru_macho_melact_noncan_0.2_new\n",
       "65  ts_ru_macho_melact  fcidump.6_ts_ru_macho_melact_noncan_0.2_new"
      ]
     },
     "execution_count": 18,
     "metadata": {},
     "output_type": "execute_result"
    }
   ],
   "source": [
    "cat_meta.query('cat_tag == \"ru_macho\"')[['molecule_name', 'mean_field_obejct_from_fcidump']]"
   ]
  },
  {
   "cell_type": "code",
   "execution_count": 19,
   "metadata": {},
   "outputs": [],
   "source": [
    "cat_meta.to_csv('catalysis_metadata_new_fcidump.csv', index=False)"
   ]
  },
  {
   "cell_type": "code",
   "execution_count": 7,
   "metadata": {},
   "outputs": [
    {
     "data": {
      "text/plain": [
       "Index(['geometry', 'basis_set', 'charge', 'multiplicity',\n",
       "       'avas_atomic_orbitals', 'avas_minao', 'method_type', 'molecule_name',\n",
       "       'ref', 'cat_tag', 'category', 'id', 'nbasis', 'chk_list', 'id_list',\n",
       "       'num_files', 'mean_field_obejct_from_fcidump', 'converged',\n",
       "       'stable_int', 'mult_mf', 's2_mf', 'e_tot', 'avas_ne', 'avas_no',\n",
       "       'utility_scale', 'software_used'],\n",
       "      dtype='object')"
      ]
     },
     "execution_count": 7,
     "metadata": {},
     "output_type": "execute_result"
    }
   ],
   "source": [
    "cat_meta.columns"
   ]
  },
  {
   "cell_type": "code",
   "execution_count": null,
   "metadata": {},
   "outputs": [],
   "source": [
    "# Download and rename the orbital files\n",
    "for _, row in cat_meta.iterrows():\n",
    "    chk_name = eval(row['chk_list'])[0]\n",
    "    ru_macho_non_tm = (row['cat_tag'] == 'ru_macho' and (row['molecule_name'] == 'co2' or row['molecule_name'] == 'melact'))\n",
    "    if ru_macho_non_tm:\n",
    "        fcidump_name = f'fcidump.{row[\"id\"]}_{row[\"molecule_name\"]}_0.2_old'\n",
    "        s3.download(f'{S3_BUCKET}fcidump.{row[\"id\"]}_{row[\"molecule_name\"]}_*', \".\")\n",
    "        os.rename(row['mean_field_obejct_from_fcidump'], fcidump_name)\n",
    "    else:\n",
    "        remote_name = S3_BUCKET + row['mean_field_obejct_from_fcidump']\n",
    "        s3.download(remote_name, row['mean_field_obejct_from_fcidump'])"
   ]
  }
 ],
 "metadata": {
  "kernelspec": {
   "display_name": "sdk",
   "language": "python",
   "name": "python3"
  },
  "language_info": {
   "codemirror_mode": {
    "name": "ipython",
    "version": 3
   },
   "file_extension": ".py",
   "mimetype": "text/x-python",
   "name": "python",
   "nbconvert_exporter": "python",
   "pygments_lexer": "ipython3",
   "version": "3.11.8"
  }
 },
 "nbformat": 4,
 "nbformat_minor": 2
}
